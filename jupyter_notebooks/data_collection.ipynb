{
 "cells": [
  {
   "cell_type": "code",
   "execution_count": 1,
   "metadata": {},
   "outputs": [],
   "source": [
    "import yfinance as yf\n",
    "import pandas as pd\n",
    "import numpy as np"
   ]
  },
  {
   "attachments": {},
   "cell_type": "markdown",
   "metadata": {},
   "source": [
    "Download target data, which will be the S&P 500 Index"
   ]
  },
  {
   "cell_type": "code",
   "execution_count": 2,
   "metadata": {},
   "outputs": [
    {
     "name": "stdout",
     "output_type": "stream",
     "text": [
      "[*********************100%***********************]  1 of 1 completed\n"
     ]
    },
    {
     "data": {
      "text/html": [
       "<div>\n",
       "<style scoped>\n",
       "    .dataframe tbody tr th:only-of-type {\n",
       "        vertical-align: middle;\n",
       "    }\n",
       "\n",
       "    .dataframe tbody tr th {\n",
       "        vertical-align: top;\n",
       "    }\n",
       "\n",
       "    .dataframe thead th {\n",
       "        text-align: right;\n",
       "    }\n",
       "</style>\n",
       "<table border=\"1\" class=\"dataframe\">\n",
       "  <thead>\n",
       "    <tr style=\"text-align: right;\">\n",
       "      <th></th>\n",
       "      <th>Open</th>\n",
       "      <th>High</th>\n",
       "      <th>Low</th>\n",
       "      <th>Close</th>\n",
       "      <th>Adj Close</th>\n",
       "      <th>Volume</th>\n",
       "    </tr>\n",
       "    <tr>\n",
       "      <th>Date</th>\n",
       "      <th></th>\n",
       "      <th></th>\n",
       "      <th></th>\n",
       "      <th></th>\n",
       "      <th></th>\n",
       "      <th></th>\n",
       "    </tr>\n",
       "  </thead>\n",
       "  <tbody>\n",
       "    <tr>\n",
       "      <th>2011-07-05</th>\n",
       "      <td>1339.589966</td>\n",
       "      <td>1340.890015</td>\n",
       "      <td>1334.300049</td>\n",
       "      <td>1337.880005</td>\n",
       "      <td>1337.880005</td>\n",
       "      <td>3722320000</td>\n",
       "    </tr>\n",
       "    <tr>\n",
       "      <th>2011-07-06</th>\n",
       "      <td>1337.560059</td>\n",
       "      <td>1340.939941</td>\n",
       "      <td>1330.920044</td>\n",
       "      <td>1339.219971</td>\n",
       "      <td>1339.219971</td>\n",
       "      <td>3564190000</td>\n",
       "    </tr>\n",
       "    <tr>\n",
       "      <th>2011-07-07</th>\n",
       "      <td>1339.619995</td>\n",
       "      <td>1356.479980</td>\n",
       "      <td>1339.619995</td>\n",
       "      <td>1353.219971</td>\n",
       "      <td>1353.219971</td>\n",
       "      <td>4069530000</td>\n",
       "    </tr>\n",
       "    <tr>\n",
       "      <th>2011-07-08</th>\n",
       "      <td>1352.390015</td>\n",
       "      <td>1352.390015</td>\n",
       "      <td>1333.709961</td>\n",
       "      <td>1343.800049</td>\n",
       "      <td>1343.800049</td>\n",
       "      <td>3594360000</td>\n",
       "    </tr>\n",
       "    <tr>\n",
       "      <th>2011-07-11</th>\n",
       "      <td>1343.310059</td>\n",
       "      <td>1343.310059</td>\n",
       "      <td>1316.420044</td>\n",
       "      <td>1319.489990</td>\n",
       "      <td>1319.489990</td>\n",
       "      <td>3879130000</td>\n",
       "    </tr>\n",
       "  </tbody>\n",
       "</table>\n",
       "</div>"
      ],
      "text/plain": [
       "                   Open         High          Low        Close    Adj Close  \\\n",
       "Date                                                                          \n",
       "2011-07-05  1339.589966  1340.890015  1334.300049  1337.880005  1337.880005   \n",
       "2011-07-06  1337.560059  1340.939941  1330.920044  1339.219971  1339.219971   \n",
       "2011-07-07  1339.619995  1356.479980  1339.619995  1353.219971  1353.219971   \n",
       "2011-07-08  1352.390015  1352.390015  1333.709961  1343.800049  1343.800049   \n",
       "2011-07-11  1343.310059  1343.310059  1316.420044  1319.489990  1319.489990   \n",
       "\n",
       "                Volume  \n",
       "Date                    \n",
       "2011-07-05  3722320000  \n",
       "2011-07-06  3564190000  \n",
       "2011-07-07  4069530000  \n",
       "2011-07-08  3594360000  \n",
       "2011-07-11  3879130000  "
      ]
     },
     "execution_count": 2,
     "metadata": {},
     "output_type": "execute_result"
    }
   ],
   "source": [
    "ticker_symbol = '^GSPC'\n",
    "\n",
    "start_date = '2011-07-02'\n",
    "end_date = '2023-07-02'\n",
    "\n",
    "data = yf.download(ticker_symbol, start=start_date, end=end_date)\n",
    "\n",
    "data.head()"
   ]
  },
  {
   "cell_type": "code",
   "execution_count": 3,
   "metadata": {},
   "outputs": [
    {
     "name": "stdout",
     "output_type": "stream",
     "text": [
      "<class 'pandas.core.frame.DataFrame'>\n",
      "DatetimeIndex: 3018 entries, 2011-07-05 to 2023-06-30\n",
      "Data columns (total 6 columns):\n",
      " #   Column     Non-Null Count  Dtype  \n",
      "---  ------     --------------  -----  \n",
      " 0   Open       3018 non-null   float64\n",
      " 1   High       3018 non-null   float64\n",
      " 2   Low        3018 non-null   float64\n",
      " 3   Close      3018 non-null   float64\n",
      " 4   Adj Close  3018 non-null   float64\n",
      " 5   Volume     3018 non-null   int64  \n",
      "dtypes: float64(5), int64(1)\n",
      "memory usage: 165.0 KB\n"
     ]
    }
   ],
   "source": [
    "data.info()"
   ]
  },
  {
   "cell_type": "code",
   "execution_count": 4,
   "metadata": {},
   "outputs": [],
   "source": [
    "data.drop_duplicates(inplace=True)"
   ]
  },
  {
   "cell_type": "code",
   "execution_count": 5,
   "metadata": {},
   "outputs": [
    {
     "name": "stdout",
     "output_type": "stream",
     "text": [
      "No null values found.\n"
     ]
    }
   ],
   "source": [
    "if data.isnull().values.any():\n",
    "    data.dropna(inplace=True)\n",
    "else:\n",
    "    print('No null values found.')"
   ]
  },
  {
   "cell_type": "code",
   "execution_count": 6,
   "metadata": {},
   "outputs": [
    {
     "name": "stdout",
     "output_type": "stream",
     "text": [
      "DatetimeIndex already set.\n"
     ]
    }
   ],
   "source": [
    "if isinstance(data.index, pd.DatetimeIndex):\n",
    "    print('DatetimeIndex already set.')\n",
    "else:\n",
    "    try:\n",
    "        data.set_index('Date', inplace=True)\n",
    "        data.index = pd.to_datetime(data.index)\n",
    "        print('DatetimeIndex has been set.')\n",
    "    except KeyError:\n",
    "        print('Unable to set datetime index.')"
   ]
  },
  {
   "cell_type": "code",
   "execution_count": 7,
   "metadata": {},
   "outputs": [],
   "source": [
    "data.sort_values(by='Date', inplace=True, ascending=False)"
   ]
  },
  {
   "cell_type": "code",
   "execution_count": 8,
   "metadata": {},
   "outputs": [
    {
     "data": {
      "text/html": [
       "<div>\n",
       "<style scoped>\n",
       "    .dataframe tbody tr th:only-of-type {\n",
       "        vertical-align: middle;\n",
       "    }\n",
       "\n",
       "    .dataframe tbody tr th {\n",
       "        vertical-align: top;\n",
       "    }\n",
       "\n",
       "    .dataframe thead th {\n",
       "        text-align: right;\n",
       "    }\n",
       "</style>\n",
       "<table border=\"1\" class=\"dataframe\">\n",
       "  <thead>\n",
       "    <tr style=\"text-align: right;\">\n",
       "      <th></th>\n",
       "      <th>Open</th>\n",
       "      <th>High</th>\n",
       "      <th>Low</th>\n",
       "      <th>Close</th>\n",
       "      <th>Adj Close</th>\n",
       "      <th>Volume</th>\n",
       "    </tr>\n",
       "    <tr>\n",
       "      <th>Date</th>\n",
       "      <th></th>\n",
       "      <th></th>\n",
       "      <th></th>\n",
       "      <th></th>\n",
       "      <th></th>\n",
       "      <th></th>\n",
       "    </tr>\n",
       "  </thead>\n",
       "  <tbody>\n",
       "    <tr>\n",
       "      <th>2023-06-30</th>\n",
       "      <td>4422.439941</td>\n",
       "      <td>4458.479980</td>\n",
       "      <td>4422.439941</td>\n",
       "      <td>4450.379883</td>\n",
       "      <td>4450.379883</td>\n",
       "      <td>3923450000</td>\n",
       "    </tr>\n",
       "    <tr>\n",
       "      <th>2023-06-29</th>\n",
       "      <td>4374.939941</td>\n",
       "      <td>4398.390137</td>\n",
       "      <td>4371.970215</td>\n",
       "      <td>4396.439941</td>\n",
       "      <td>4396.439941</td>\n",
       "      <td>3696660000</td>\n",
       "    </tr>\n",
       "    <tr>\n",
       "      <th>2023-06-28</th>\n",
       "      <td>4367.479980</td>\n",
       "      <td>4390.350098</td>\n",
       "      <td>4360.220215</td>\n",
       "      <td>4376.859863</td>\n",
       "      <td>4376.859863</td>\n",
       "      <td>3739330000</td>\n",
       "    </tr>\n",
       "    <tr>\n",
       "      <th>2023-06-27</th>\n",
       "      <td>4337.359863</td>\n",
       "      <td>4384.419922</td>\n",
       "      <td>4335.000000</td>\n",
       "      <td>4378.410156</td>\n",
       "      <td>4378.410156</td>\n",
       "      <td>3573500000</td>\n",
       "    </tr>\n",
       "    <tr>\n",
       "      <th>2023-06-26</th>\n",
       "      <td>4344.839844</td>\n",
       "      <td>4362.060059</td>\n",
       "      <td>4328.080078</td>\n",
       "      <td>4328.819824</td>\n",
       "      <td>4328.819824</td>\n",
       "      <td>3415030000</td>\n",
       "    </tr>\n",
       "  </tbody>\n",
       "</table>\n",
       "</div>"
      ],
      "text/plain": [
       "                   Open         High          Low        Close    Adj Close  \\\n",
       "Date                                                                          \n",
       "2023-06-30  4422.439941  4458.479980  4422.439941  4450.379883  4450.379883   \n",
       "2023-06-29  4374.939941  4398.390137  4371.970215  4396.439941  4396.439941   \n",
       "2023-06-28  4367.479980  4390.350098  4360.220215  4376.859863  4376.859863   \n",
       "2023-06-27  4337.359863  4384.419922  4335.000000  4378.410156  4378.410156   \n",
       "2023-06-26  4344.839844  4362.060059  4328.080078  4328.819824  4328.819824   \n",
       "\n",
       "                Volume  \n",
       "Date                    \n",
       "2023-06-30  3923450000  \n",
       "2023-06-29  3696660000  \n",
       "2023-06-28  3739330000  \n",
       "2023-06-27  3573500000  \n",
       "2023-06-26  3415030000  "
      ]
     },
     "execution_count": 8,
     "metadata": {},
     "output_type": "execute_result"
    }
   ],
   "source": [
    "data.head()"
   ]
  },
  {
   "cell_type": "code",
   "execution_count": 9,
   "metadata": {},
   "outputs": [],
   "source": [
    "data.to_csv('/Users/jotech/Milestone Repo/milestone-project-5/data/clean_stock.csv')"
   ]
  },
  {
   "cell_type": "code",
   "execution_count": null,
   "metadata": {},
   "outputs": [],
   "source": []
  }
 ],
 "metadata": {
  "kernelspec": {
   "display_name": ".venv",
   "language": "python",
   "name": "python3"
  },
  "language_info": {
   "codemirror_mode": {
    "name": "ipython",
    "version": 3
   },
   "file_extension": ".py",
   "mimetype": "text/x-python",
   "name": "python",
   "nbconvert_exporter": "python",
   "pygments_lexer": "ipython3",
   "version": "3.9.6"
  },
  "orig_nbformat": 4
 },
 "nbformat": 4,
 "nbformat_minor": 2
}
