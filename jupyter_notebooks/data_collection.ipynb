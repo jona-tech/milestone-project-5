{
 "cells": [
  {
   "cell_type": "code",
   "execution_count": 1,
   "metadata": {},
   "outputs": [],
   "source": [
    "import yfinance as yf\n",
    "import pandas as pd\n",
    "import numpy as np"
   ]
  },
  {
   "cell_type": "code",
   "execution_count": 3,
   "metadata": {},
   "outputs": [
    {
     "name": "stdout",
     "output_type": "stream",
     "text": [
      "[*********************100%***********************]  1 of 1 completed\n"
     ]
    },
    {
     "data": {
      "text/html": [
       "<div>\n",
       "<style scoped>\n",
       "    .dataframe tbody tr th:only-of-type {\n",
       "        vertical-align: middle;\n",
       "    }\n",
       "\n",
       "    .dataframe tbody tr th {\n",
       "        vertical-align: top;\n",
       "    }\n",
       "\n",
       "    .dataframe thead th {\n",
       "        text-align: right;\n",
       "    }\n",
       "</style>\n",
       "<table border=\"1\" class=\"dataframe\">\n",
       "  <thead>\n",
       "    <tr style=\"text-align: right;\">\n",
       "      <th></th>\n",
       "      <th>Open</th>\n",
       "      <th>High</th>\n",
       "      <th>Low</th>\n",
       "      <th>Close</th>\n",
       "      <th>Adj Close</th>\n",
       "      <th>Volume</th>\n",
       "    </tr>\n",
       "    <tr>\n",
       "      <th>Date</th>\n",
       "      <th></th>\n",
       "      <th></th>\n",
       "      <th></th>\n",
       "      <th></th>\n",
       "      <th></th>\n",
       "      <th></th>\n",
       "    </tr>\n",
       "  </thead>\n",
       "  <tbody>\n",
       "    <tr>\n",
       "      <th>2018-06-25</th>\n",
       "      <td>2742.939941</td>\n",
       "      <td>2742.939941</td>\n",
       "      <td>2698.669922</td>\n",
       "      <td>2717.070068</td>\n",
       "      <td>2717.070068</td>\n",
       "      <td>3663280000</td>\n",
       "    </tr>\n",
       "    <tr>\n",
       "      <th>2018-06-26</th>\n",
       "      <td>2722.120117</td>\n",
       "      <td>2732.909912</td>\n",
       "      <td>2715.600098</td>\n",
       "      <td>2723.060059</td>\n",
       "      <td>2723.060059</td>\n",
       "      <td>3568900000</td>\n",
       "    </tr>\n",
       "    <tr>\n",
       "      <th>2018-06-27</th>\n",
       "      <td>2728.449951</td>\n",
       "      <td>2746.090088</td>\n",
       "      <td>2699.379883</td>\n",
       "      <td>2699.629883</td>\n",
       "      <td>2699.629883</td>\n",
       "      <td>3803990000</td>\n",
       "    </tr>\n",
       "    <tr>\n",
       "      <th>2018-06-28</th>\n",
       "      <td>2698.689941</td>\n",
       "      <td>2724.340088</td>\n",
       "      <td>2691.989990</td>\n",
       "      <td>2716.310059</td>\n",
       "      <td>2716.310059</td>\n",
       "      <td>3461100000</td>\n",
       "    </tr>\n",
       "    <tr>\n",
       "      <th>2018-06-29</th>\n",
       "      <td>2727.129883</td>\n",
       "      <td>2743.260010</td>\n",
       "      <td>2718.030029</td>\n",
       "      <td>2718.370117</td>\n",
       "      <td>2718.370117</td>\n",
       "      <td>3586800000</td>\n",
       "    </tr>\n",
       "  </tbody>\n",
       "</table>\n",
       "</div>"
      ],
      "text/plain": [
       "                   Open         High          Low        Close    Adj Close  \\\n",
       "Date                                                                          \n",
       "2018-06-25  2742.939941  2742.939941  2698.669922  2717.070068  2717.070068   \n",
       "2018-06-26  2722.120117  2732.909912  2715.600098  2723.060059  2723.060059   \n",
       "2018-06-27  2728.449951  2746.090088  2699.379883  2699.629883  2699.629883   \n",
       "2018-06-28  2698.689941  2724.340088  2691.989990  2716.310059  2716.310059   \n",
       "2018-06-29  2727.129883  2743.260010  2718.030029  2718.370117  2718.370117   \n",
       "\n",
       "                Volume  \n",
       "Date                    \n",
       "2018-06-25  3663280000  \n",
       "2018-06-26  3568900000  \n",
       "2018-06-27  3803990000  \n",
       "2018-06-28  3461100000  \n",
       "2018-06-29  3586800000  "
      ]
     },
     "execution_count": 3,
     "metadata": {},
     "output_type": "execute_result"
    }
   ],
   "source": [
    "ticker_symbol = '^GSPC'\n",
    "\n",
    "start_date = '2018-06-25'\n",
    "end_date = '2023-06-25'\n",
    "\n",
    "data = yf.download(ticker_symbol, start=start_date, end=end_date)\n",
    "\n",
    "data.head()"
   ]
  },
  {
   "cell_type": "code",
   "execution_count": null,
   "metadata": {},
   "outputs": [],
   "source": []
  }
 ],
 "metadata": {
  "kernelspec": {
   "display_name": ".venv",
   "language": "python",
   "name": "python3"
  },
  "language_info": {
   "codemirror_mode": {
    "name": "ipython",
    "version": 3
   },
   "file_extension": ".py",
   "mimetype": "text/x-python",
   "name": "python",
   "nbconvert_exporter": "python",
   "pygments_lexer": "ipython3",
   "version": "3.9.6"
  },
  "orig_nbformat": 4
 },
 "nbformat": 4,
 "nbformat_minor": 2
}
