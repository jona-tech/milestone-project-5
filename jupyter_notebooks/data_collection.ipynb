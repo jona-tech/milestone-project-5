{
 "cells": [
  {
   "cell_type": "code",
   "execution_count": 1,
   "metadata": {},
   "outputs": [],
   "source": [
    "import yfinance as yf\n",
    "import pandas as pd\n",
    "import numpy as np"
   ]
  },
  {
   "attachments": {},
   "cell_type": "markdown",
   "metadata": {},
   "source": [
    "Download target data, which will be the S&P 500 Index"
   ]
  },
  {
   "cell_type": "code",
   "execution_count": 2,
   "metadata": {},
   "outputs": [
    {
     "name": "stdout",
     "output_type": "stream",
     "text": [
      "[*********************100%***********************]  1 of 1 completed\n",
      "[*********************100%***********************]  1 of 1 completed\n"
     ]
    },
    {
     "data": {
      "text/html": [
       "<div>\n",
       "<style scoped>\n",
       "    .dataframe tbody tr th:only-of-type {\n",
       "        vertical-align: middle;\n",
       "    }\n",
       "\n",
       "    .dataframe tbody tr th {\n",
       "        vertical-align: top;\n",
       "    }\n",
       "\n",
       "    .dataframe thead th {\n",
       "        text-align: right;\n",
       "    }\n",
       "</style>\n",
       "<table border=\"1\" class=\"dataframe\">\n",
       "  <thead>\n",
       "    <tr style=\"text-align: right;\">\n",
       "      <th></th>\n",
       "      <th>Open</th>\n",
       "      <th>High</th>\n",
       "      <th>Low</th>\n",
       "      <th>Close</th>\n",
       "      <th>Adj Close</th>\n",
       "      <th>Volume</th>\n",
       "      <th>Adj Close</th>\n",
       "    </tr>\n",
       "    <tr>\n",
       "      <th>Date</th>\n",
       "      <th></th>\n",
       "      <th></th>\n",
       "      <th></th>\n",
       "      <th></th>\n",
       "      <th></th>\n",
       "      <th></th>\n",
       "      <th></th>\n",
       "    </tr>\n",
       "  </thead>\n",
       "  <tbody>\n",
       "    <tr>\n",
       "      <th>2020-07-02</th>\n",
       "      <td>0.027935</td>\n",
       "      <td>0.030129</td>\n",
       "      <td>0.027517</td>\n",
       "      <td>0.029416</td>\n",
       "      <td>0.029416</td>\n",
       "      <td>4199770</td>\n",
       "      <td>NaN</td>\n",
       "    </tr>\n",
       "    <tr>\n",
       "      <th>2020-07-03</th>\n",
       "      <td>0.029431</td>\n",
       "      <td>0.031571</td>\n",
       "      <td>0.028921</td>\n",
       "      <td>0.030697</td>\n",
       "      <td>0.030697</td>\n",
       "      <td>5332319</td>\n",
       "      <td>NaN</td>\n",
       "    </tr>\n",
       "    <tr>\n",
       "      <th>2020-07-04</th>\n",
       "      <td>0.030695</td>\n",
       "      <td>0.031385</td>\n",
       "      <td>0.029335</td>\n",
       "      <td>0.029666</td>\n",
       "      <td>0.029666</td>\n",
       "      <td>3477456</td>\n",
       "      <td>NaN</td>\n",
       "    </tr>\n",
       "    <tr>\n",
       "      <th>2020-07-05</th>\n",
       "      <td>0.029699</td>\n",
       "      <td>0.030122</td>\n",
       "      <td>0.028005</td>\n",
       "      <td>0.028182</td>\n",
       "      <td>0.028182</td>\n",
       "      <td>3347673</td>\n",
       "      <td>NaN</td>\n",
       "    </tr>\n",
       "    <tr>\n",
       "      <th>2020-07-06</th>\n",
       "      <td>0.028182</td>\n",
       "      <td>0.031628</td>\n",
       "      <td>0.027908</td>\n",
       "      <td>0.031323</td>\n",
       "      <td>0.031323</td>\n",
       "      <td>4370416</td>\n",
       "      <td>NaN</td>\n",
       "    </tr>\n",
       "  </tbody>\n",
       "</table>\n",
       "</div>"
      ],
      "text/plain": [
       "                Open      High       Low     Close  Adj Close   Volume  \\\n",
       "Date                                                                     \n",
       "2020-07-02  0.027935  0.030129  0.027517  0.029416   0.029416  4199770   \n",
       "2020-07-03  0.029431  0.031571  0.028921  0.030697   0.030697  5332319   \n",
       "2020-07-04  0.030695  0.031385  0.029335  0.029666   0.029666  3477456   \n",
       "2020-07-05  0.029699  0.030122  0.028005  0.028182   0.028182  3347673   \n",
       "2020-07-06  0.028182  0.031628  0.027908  0.031323   0.031323  4370416   \n",
       "\n",
       "            Adj Close  \n",
       "Date                   \n",
       "2020-07-02        NaN  \n",
       "2020-07-03        NaN  \n",
       "2020-07-04        NaN  \n",
       "2020-07-05        NaN  \n",
       "2020-07-06        NaN  "
      ]
     },
     "execution_count": 2,
     "metadata": {},
     "output_type": "execute_result"
    }
   ],
   "source": [
    "target_symbol = '^GSPC'\n",
    "\n",
    "start_date = '2020-07-02'\n",
    "end_date = '2023-07-02'\n",
    "\n",
    "data = yf.download(target_symbol, start=start_date, end=end_date)\n",
    "\n",
    "data.head()"
   ]
  },
  {
   "cell_type": "code",
   "execution_count": 3,
   "metadata": {},
   "outputs": [
    {
     "name": "stdout",
     "output_type": "stream",
     "text": [
      "<class 'pandas.core.frame.DataFrame'>\n",
      "DatetimeIndex: 1095 entries, 2020-07-02 to 2023-07-01\n",
      "Freq: D\n",
      "Data columns (total 7 columns):\n",
      " #   Column     Non-Null Count  Dtype  \n",
      "---  ------     --------------  -----  \n",
      " 0   Open       1095 non-null   float64\n",
      " 1   High       1095 non-null   float64\n",
      " 2   Low        1095 non-null   float64\n",
      " 3   Close      1095 non-null   float64\n",
      " 4   Adj Close  1095 non-null   float64\n",
      " 5   Volume     1095 non-null   int64  \n",
      " 6   Adj Close  691 non-null    float64\n",
      "dtypes: float64(6), int64(1)\n",
      "memory usage: 68.4 KB\n"
     ]
    }
   ],
   "source": [
    "data.info()"
   ]
  },
  {
   "cell_type": "code",
   "execution_count": 4,
   "metadata": {},
   "outputs": [],
   "source": [
    "data.drop_duplicates(subset=None, inplace=True)"
   ]
  },
  {
   "cell_type": "code",
   "execution_count": 5,
   "metadata": {},
   "outputs": [],
   "source": [
    "if data.isnull().values.any():\n",
    "    data.dropna(inplace=True)\n",
    "else:\n",
    "    print('No null values found.')"
   ]
  },
  {
   "cell_type": "code",
   "execution_count": 6,
   "metadata": {},
   "outputs": [
    {
     "name": "stdout",
     "output_type": "stream",
     "text": [
      "DatetimeIndex already set.\n"
     ]
    }
   ],
   "source": [
    "if isinstance(data.index, pd.DatetimeIndex):\n",
    "    print('DatetimeIndex already set.')\n",
    "else:\n",
    "    try:\n",
    "        data.set_index('Date', inplace=True)\n",
    "        data.index = pd.to_datetime(data.index)\n",
    "        print('DatetimeIndex has been set.')\n",
    "    except KeyError:\n",
    "        print('Unable to set datetime index.')"
   ]
  },
  {
   "cell_type": "code",
   "execution_count": 7,
   "metadata": {},
   "outputs": [],
   "source": [
    "data.sort_values(by='Date', inplace=True, ascending=False)"
   ]
  },
  {
   "cell_type": "code",
   "execution_count": 8,
   "metadata": {},
   "outputs": [
    {
     "data": {
      "text/html": [
       "<div>\n",
       "<style scoped>\n",
       "    .dataframe tbody tr th:only-of-type {\n",
       "        vertical-align: middle;\n",
       "    }\n",
       "\n",
       "    .dataframe tbody tr th {\n",
       "        vertical-align: top;\n",
       "    }\n",
       "\n",
       "    .dataframe thead th {\n",
       "        text-align: right;\n",
       "    }\n",
       "</style>\n",
       "<table border=\"1\" class=\"dataframe\">\n",
       "  <thead>\n",
       "    <tr style=\"text-align: right;\">\n",
       "      <th></th>\n",
       "      <th>Open</th>\n",
       "      <th>High</th>\n",
       "      <th>Low</th>\n",
       "      <th>Close</th>\n",
       "      <th>Adj Close</th>\n",
       "      <th>Volume</th>\n",
       "      <th>Adj Close</th>\n",
       "    </tr>\n",
       "    <tr>\n",
       "      <th>Date</th>\n",
       "      <th></th>\n",
       "      <th></th>\n",
       "      <th></th>\n",
       "      <th></th>\n",
       "      <th></th>\n",
       "      <th></th>\n",
       "      <th></th>\n",
       "    </tr>\n",
       "  </thead>\n",
       "  <tbody>\n",
       "    <tr>\n",
       "      <th>2023-06-30</th>\n",
       "      <td>0.218340</td>\n",
       "      <td>0.231158</td>\n",
       "      <td>0.210436</td>\n",
       "      <td>0.227044</td>\n",
       "      <td>0.227044</td>\n",
       "      <td>55912510</td>\n",
       "      <td>91.271896</td>\n",
       "    </tr>\n",
       "    <tr>\n",
       "      <th>2023-06-29</th>\n",
       "      <td>0.214351</td>\n",
       "      <td>0.224398</td>\n",
       "      <td>0.214351</td>\n",
       "      <td>0.218360</td>\n",
       "      <td>0.218360</td>\n",
       "      <td>22836398</td>\n",
       "      <td>91.159698</td>\n",
       "    </tr>\n",
       "    <tr>\n",
       "      <th>2023-06-28</th>\n",
       "      <td>0.233995</td>\n",
       "      <td>0.234257</td>\n",
       "      <td>0.211709</td>\n",
       "      <td>0.214415</td>\n",
       "      <td>0.214415</td>\n",
       "      <td>36907642</td>\n",
       "      <td>91.601898</td>\n",
       "    </tr>\n",
       "    <tr>\n",
       "      <th>2023-06-27</th>\n",
       "      <td>0.219835</td>\n",
       "      <td>0.237009</td>\n",
       "      <td>0.219374</td>\n",
       "      <td>0.233982</td>\n",
       "      <td>0.233982</td>\n",
       "      <td>51781591</td>\n",
       "      <td>91.564903</td>\n",
       "    </tr>\n",
       "    <tr>\n",
       "      <th>2023-06-26</th>\n",
       "      <td>0.228072</td>\n",
       "      <td>0.232684</td>\n",
       "      <td>0.217357</td>\n",
       "      <td>0.219815</td>\n",
       "      <td>0.219815</td>\n",
       "      <td>35023459</td>\n",
       "      <td>91.764503</td>\n",
       "    </tr>\n",
       "  </tbody>\n",
       "</table>\n",
       "</div>"
      ],
      "text/plain": [
       "                Open      High       Low     Close  Adj Close    Volume  \\\n",
       "Date                                                                      \n",
       "2023-06-30  0.218340  0.231158  0.210436  0.227044   0.227044  55912510   \n",
       "2023-06-29  0.214351  0.224398  0.214351  0.218360   0.218360  22836398   \n",
       "2023-06-28  0.233995  0.234257  0.211709  0.214415   0.214415  36907642   \n",
       "2023-06-27  0.219835  0.237009  0.219374  0.233982   0.233982  51781591   \n",
       "2023-06-26  0.228072  0.232684  0.217357  0.219815   0.219815  35023459   \n",
       "\n",
       "            Adj Close  \n",
       "Date                   \n",
       "2023-06-30  91.271896  \n",
       "2023-06-29  91.159698  \n",
       "2023-06-28  91.601898  \n",
       "2023-06-27  91.564903  \n",
       "2023-06-26  91.764503  "
      ]
     },
     "execution_count": 8,
     "metadata": {},
     "output_type": "execute_result"
    }
   ],
   "source": [
    "data.head()"
   ]
  },
  {
   "cell_type": "code",
   "execution_count": 9,
   "metadata": {},
   "outputs": [],
   "source": [
    "data.to_csv('/Users/jotech/Milestone Repo/milestone-project-5/data/clean_stock.csv')"
   ]
  },
  {
   "cell_type": "code",
   "execution_count": null,
   "metadata": {},
   "outputs": [],
   "source": []
  }
 ],
 "metadata": {
  "kernelspec": {
   "display_name": ".venv",
   "language": "python",
   "name": "python3"
  },
  "language_info": {
   "codemirror_mode": {
    "name": "ipython",
    "version": 3
   },
   "file_extension": ".py",
   "mimetype": "text/x-python",
   "name": "python",
   "nbconvert_exporter": "python",
   "pygments_lexer": "ipython3",
   "version": "3.9.6"
  },
  "orig_nbformat": 4
 },
 "nbformat": 4,
 "nbformat_minor": 2
}
