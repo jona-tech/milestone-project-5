{
 "cells": [
  {
   "cell_type": "code",
   "execution_count": 1,
   "metadata": {},
   "outputs": [],
   "source": [
    "import yfinance as yf\n",
    "import pandas as pd\n",
    "import numpy as np"
   ]
  },
  {
   "attachments": {},
   "cell_type": "markdown",
   "metadata": {},
   "source": [
    "Download target data, which will be the S&P 500 Index"
   ]
  },
  {
   "cell_type": "code",
   "execution_count": 2,
   "metadata": {},
   "outputs": [
    {
     "name": "stdout",
     "output_type": "stream",
     "text": [
      "[*********************100%***********************]  1 of 1 completed\n"
     ]
    },
    {
     "data": {
      "text/html": [
       "<div>\n",
       "<style scoped>\n",
       "    .dataframe tbody tr th:only-of-type {\n",
       "        vertical-align: middle;\n",
       "    }\n",
       "\n",
       "    .dataframe tbody tr th {\n",
       "        vertical-align: top;\n",
       "    }\n",
       "\n",
       "    .dataframe thead th {\n",
       "        text-align: right;\n",
       "    }\n",
       "</style>\n",
       "<table border=\"1\" class=\"dataframe\">\n",
       "  <thead>\n",
       "    <tr style=\"text-align: right;\">\n",
       "      <th></th>\n",
       "      <th>Open</th>\n",
       "      <th>High</th>\n",
       "      <th>Low</th>\n",
       "      <th>Close</th>\n",
       "      <th>Adj Close</th>\n",
       "      <th>Volume</th>\n",
       "    </tr>\n",
       "    <tr>\n",
       "      <th>Date</th>\n",
       "      <th></th>\n",
       "      <th></th>\n",
       "      <th></th>\n",
       "      <th></th>\n",
       "      <th></th>\n",
       "      <th></th>\n",
       "    </tr>\n",
       "  </thead>\n",
       "  <tbody>\n",
       "    <tr>\n",
       "      <th>2020-07-02</th>\n",
       "      <td>3143.639893</td>\n",
       "      <td>3165.810059</td>\n",
       "      <td>3124.520020</td>\n",
       "      <td>3130.010010</td>\n",
       "      <td>3130.010010</td>\n",
       "      <td>4197720000</td>\n",
       "    </tr>\n",
       "    <tr>\n",
       "      <th>2020-07-06</th>\n",
       "      <td>3155.290039</td>\n",
       "      <td>3182.590088</td>\n",
       "      <td>3155.290039</td>\n",
       "      <td>3179.719971</td>\n",
       "      <td>3179.719971</td>\n",
       "      <td>4759160000</td>\n",
       "    </tr>\n",
       "    <tr>\n",
       "      <th>2020-07-07</th>\n",
       "      <td>3166.439941</td>\n",
       "      <td>3184.149902</td>\n",
       "      <td>3142.929932</td>\n",
       "      <td>3145.320068</td>\n",
       "      <td>3145.320068</td>\n",
       "      <td>4571330000</td>\n",
       "    </tr>\n",
       "    <tr>\n",
       "      <th>2020-07-08</th>\n",
       "      <td>3153.070068</td>\n",
       "      <td>3171.800049</td>\n",
       "      <td>3136.530029</td>\n",
       "      <td>3169.939941</td>\n",
       "      <td>3169.939941</td>\n",
       "      <td>4937310000</td>\n",
       "    </tr>\n",
       "    <tr>\n",
       "      <th>2020-07-09</th>\n",
       "      <td>3176.169922</td>\n",
       "      <td>3179.780029</td>\n",
       "      <td>3115.699951</td>\n",
       "      <td>3152.050049</td>\n",
       "      <td>3152.050049</td>\n",
       "      <td>4843650000</td>\n",
       "    </tr>\n",
       "  </tbody>\n",
       "</table>\n",
       "</div>"
      ],
      "text/plain": [
       "                   Open         High          Low        Close    Adj Close  \\\n",
       "Date                                                                          \n",
       "2020-07-02  3143.639893  3165.810059  3124.520020  3130.010010  3130.010010   \n",
       "2020-07-06  3155.290039  3182.590088  3155.290039  3179.719971  3179.719971   \n",
       "2020-07-07  3166.439941  3184.149902  3142.929932  3145.320068  3145.320068   \n",
       "2020-07-08  3153.070068  3171.800049  3136.530029  3169.939941  3169.939941   \n",
       "2020-07-09  3176.169922  3179.780029  3115.699951  3152.050049  3152.050049   \n",
       "\n",
       "                Volume  \n",
       "Date                    \n",
       "2020-07-02  4197720000  \n",
       "2020-07-06  4759160000  \n",
       "2020-07-07  4571330000  \n",
       "2020-07-08  4937310000  \n",
       "2020-07-09  4843650000  "
      ]
     },
     "execution_count": 2,
     "metadata": {},
     "output_type": "execute_result"
    }
   ],
   "source": [
    "target_symbol = '^GSPC'\n",
    "\n",
    "start_date = '2020-07-02'\n",
    "end_date = '2023-07-02'\n",
    "\n",
    "data = yf.download(target_symbol, start=start_date, end=end_date)\n",
    "\n",
    "data.head()"
   ]
  },
  {
   "cell_type": "code",
   "execution_count": 3,
   "metadata": {},
   "outputs": [
    {
     "name": "stdout",
     "output_type": "stream",
     "text": [
      "<class 'pandas.core.frame.DataFrame'>\n",
      "DatetimeIndex: 754 entries, 2020-07-02 to 2023-06-30\n",
      "Data columns (total 6 columns):\n",
      " #   Column     Non-Null Count  Dtype  \n",
      "---  ------     --------------  -----  \n",
      " 0   Open       754 non-null    float64\n",
      " 1   High       754 non-null    float64\n",
      " 2   Low        754 non-null    float64\n",
      " 3   Close      754 non-null    float64\n",
      " 4   Adj Close  754 non-null    float64\n",
      " 5   Volume     754 non-null    int64  \n",
      "dtypes: float64(5), int64(1)\n",
      "memory usage: 41.2 KB\n"
     ]
    }
   ],
   "source": [
    "data.info()"
   ]
  },
  {
   "cell_type": "code",
   "execution_count": 4,
   "metadata": {},
   "outputs": [],
   "source": [
    "data.drop_duplicates(subset=None, inplace=True)"
   ]
  },
  {
   "cell_type": "code",
   "execution_count": 5,
   "metadata": {},
   "outputs": [
    {
     "name": "stdout",
     "output_type": "stream",
     "text": [
      "No null values found.\n"
     ]
    }
   ],
   "source": [
    "if data.isnull().values.any():\n",
    "    data.dropna(inplace=True)\n",
    "else:\n",
    "    print('No null values found.')"
   ]
  },
  {
   "cell_type": "code",
   "execution_count": 6,
   "metadata": {},
   "outputs": [
    {
     "name": "stdout",
     "output_type": "stream",
     "text": [
      "DatetimeIndex already set.\n"
     ]
    }
   ],
   "source": [
    "if isinstance(data.index, pd.DatetimeIndex):\n",
    "    print('DatetimeIndex already set.')\n",
    "else:\n",
    "    try:\n",
    "        data.set_index('Date', inplace=True)\n",
    "        data.index = pd.to_datetime(data.index)\n",
    "        print('DatetimeIndex has been set.')\n",
    "    except KeyError:\n",
    "        print('Unable to set datetime index.')"
   ]
  },
  {
   "cell_type": "code",
   "execution_count": 7,
   "metadata": {},
   "outputs": [],
   "source": [
    "data.sort_values(by='Date', inplace=True, ascending=True)"
   ]
  },
  {
   "cell_type": "code",
   "execution_count": 8,
   "metadata": {},
   "outputs": [
    {
     "data": {
      "text/html": [
       "<div>\n",
       "<style scoped>\n",
       "    .dataframe tbody tr th:only-of-type {\n",
       "        vertical-align: middle;\n",
       "    }\n",
       "\n",
       "    .dataframe tbody tr th {\n",
       "        vertical-align: top;\n",
       "    }\n",
       "\n",
       "    .dataframe thead th {\n",
       "        text-align: right;\n",
       "    }\n",
       "</style>\n",
       "<table border=\"1\" class=\"dataframe\">\n",
       "  <thead>\n",
       "    <tr style=\"text-align: right;\">\n",
       "      <th></th>\n",
       "      <th>Open</th>\n",
       "      <th>High</th>\n",
       "      <th>Low</th>\n",
       "      <th>Close</th>\n",
       "      <th>Adj Close</th>\n",
       "      <th>Volume</th>\n",
       "    </tr>\n",
       "    <tr>\n",
       "      <th>Date</th>\n",
       "      <th></th>\n",
       "      <th></th>\n",
       "      <th></th>\n",
       "      <th></th>\n",
       "      <th></th>\n",
       "      <th></th>\n",
       "    </tr>\n",
       "  </thead>\n",
       "  <tbody>\n",
       "    <tr>\n",
       "      <th>2020-07-02</th>\n",
       "      <td>3143.639893</td>\n",
       "      <td>3165.810059</td>\n",
       "      <td>3124.520020</td>\n",
       "      <td>3130.010010</td>\n",
       "      <td>3130.010010</td>\n",
       "      <td>4197720000</td>\n",
       "    </tr>\n",
       "    <tr>\n",
       "      <th>2020-07-06</th>\n",
       "      <td>3155.290039</td>\n",
       "      <td>3182.590088</td>\n",
       "      <td>3155.290039</td>\n",
       "      <td>3179.719971</td>\n",
       "      <td>3179.719971</td>\n",
       "      <td>4759160000</td>\n",
       "    </tr>\n",
       "    <tr>\n",
       "      <th>2020-07-07</th>\n",
       "      <td>3166.439941</td>\n",
       "      <td>3184.149902</td>\n",
       "      <td>3142.929932</td>\n",
       "      <td>3145.320068</td>\n",
       "      <td>3145.320068</td>\n",
       "      <td>4571330000</td>\n",
       "    </tr>\n",
       "    <tr>\n",
       "      <th>2020-07-08</th>\n",
       "      <td>3153.070068</td>\n",
       "      <td>3171.800049</td>\n",
       "      <td>3136.530029</td>\n",
       "      <td>3169.939941</td>\n",
       "      <td>3169.939941</td>\n",
       "      <td>4937310000</td>\n",
       "    </tr>\n",
       "    <tr>\n",
       "      <th>2020-07-09</th>\n",
       "      <td>3176.169922</td>\n",
       "      <td>3179.780029</td>\n",
       "      <td>3115.699951</td>\n",
       "      <td>3152.050049</td>\n",
       "      <td>3152.050049</td>\n",
       "      <td>4843650000</td>\n",
       "    </tr>\n",
       "  </tbody>\n",
       "</table>\n",
       "</div>"
      ],
      "text/plain": [
       "                   Open         High          Low        Close    Adj Close  \\\n",
       "Date                                                                          \n",
       "2020-07-02  3143.639893  3165.810059  3124.520020  3130.010010  3130.010010   \n",
       "2020-07-06  3155.290039  3182.590088  3155.290039  3179.719971  3179.719971   \n",
       "2020-07-07  3166.439941  3184.149902  3142.929932  3145.320068  3145.320068   \n",
       "2020-07-08  3153.070068  3171.800049  3136.530029  3169.939941  3169.939941   \n",
       "2020-07-09  3176.169922  3179.780029  3115.699951  3152.050049  3152.050049   \n",
       "\n",
       "                Volume  \n",
       "Date                    \n",
       "2020-07-02  4197720000  \n",
       "2020-07-06  4759160000  \n",
       "2020-07-07  4571330000  \n",
       "2020-07-08  4937310000  \n",
       "2020-07-09  4843650000  "
      ]
     },
     "execution_count": 8,
     "metadata": {},
     "output_type": "execute_result"
    }
   ],
   "source": [
    "data.head()"
   ]
  },
  {
   "cell_type": "code",
   "execution_count": 9,
   "metadata": {},
   "outputs": [],
   "source": [
    "data.drop(['Open', 'High', 'Low', 'Adj Close', 'Volume'], axis=1, inplace=True)"
   ]
  },
  {
   "cell_type": "code",
   "execution_count": 10,
   "metadata": {},
   "outputs": [],
   "source": [
    "data.to_csv('/Users/jotech/Milestone Repo/milestone-project-5/data/clean_stock.csv')"
   ]
  },
  {
   "cell_type": "code",
   "execution_count": null,
   "metadata": {},
   "outputs": [],
   "source": []
  }
 ],
 "metadata": {
  "kernelspec": {
   "display_name": ".venv",
   "language": "python",
   "name": "python3"
  },
  "language_info": {
   "codemirror_mode": {
    "name": "ipython",
    "version": 3
   },
   "file_extension": ".py",
   "mimetype": "text/x-python",
   "name": "python",
   "nbconvert_exporter": "python",
   "pygments_lexer": "ipython3",
   "version": "3.9.6"
  },
  "orig_nbformat": 4
 },
 "nbformat": 4,
 "nbformat_minor": 2
}
