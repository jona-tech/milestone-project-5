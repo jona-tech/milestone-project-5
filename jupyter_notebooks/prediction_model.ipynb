{
 "cells": [
  {
   "cell_type": "code",
   "execution_count": 1,
   "metadata": {},
   "outputs": [],
   "source": [
    "import tensorflow as tf\n",
    "import pandas as pd\n",
    "import numpy as np\n",
    "from sklearn.preprocessing import MinMaxScaler\n",
    "from sklearn.metrics import mean_squared_error, mean_absolute_error, r2_score\n",
    "from tensorflow.keras.models import Sequential\n",
    "from tensorflow.keras.layers import LSTM, Dense, Dropout\n",
    "from sklearn.model_selection import train_test_split"
   ]
  },
  {
   "cell_type": "code",
   "execution_count": 3,
   "metadata": {},
   "outputs": [],
   "source": [
    "df = pd.read_csv('/Users/jotech/Milestone Repo/milestone-project-5/data/clean_stock.csv')\n",
    "df['Date'] = pd.to_datetime(df['Date'])\n",
    "df.set_index('Date', inplace=True)"
   ]
  },
  {
   "cell_type": "code",
   "execution_count": 4,
   "metadata": {},
   "outputs": [
    {
     "data": {
      "text/html": [
       "<div>\n",
       "<style scoped>\n",
       "    .dataframe tbody tr th:only-of-type {\n",
       "        vertical-align: middle;\n",
       "    }\n",
       "\n",
       "    .dataframe tbody tr th {\n",
       "        vertical-align: top;\n",
       "    }\n",
       "\n",
       "    .dataframe thead th {\n",
       "        text-align: right;\n",
       "    }\n",
       "</style>\n",
       "<table border=\"1\" class=\"dataframe\">\n",
       "  <thead>\n",
       "    <tr style=\"text-align: right;\">\n",
       "      <th></th>\n",
       "      <th>Open</th>\n",
       "      <th>High</th>\n",
       "      <th>Low</th>\n",
       "      <th>Close</th>\n",
       "      <th>Adj Close</th>\n",
       "      <th>Volume</th>\n",
       "    </tr>\n",
       "    <tr>\n",
       "      <th>Date</th>\n",
       "      <th></th>\n",
       "      <th></th>\n",
       "      <th></th>\n",
       "      <th></th>\n",
       "      <th></th>\n",
       "      <th></th>\n",
       "    </tr>\n",
       "  </thead>\n",
       "  <tbody>\n",
       "    <tr>\n",
       "      <th>2023-06-23</th>\n",
       "      <td>4354.169922</td>\n",
       "      <td>4366.549805</td>\n",
       "      <td>4341.339844</td>\n",
       "      <td>4348.330078</td>\n",
       "      <td>4348.330078</td>\n",
       "      <td>6053620000</td>\n",
       "    </tr>\n",
       "    <tr>\n",
       "      <th>2023-06-22</th>\n",
       "      <td>4355.399902</td>\n",
       "      <td>4382.250000</td>\n",
       "      <td>4351.819824</td>\n",
       "      <td>4381.890137</td>\n",
       "      <td>4381.890137</td>\n",
       "      <td>3511000000</td>\n",
       "    </tr>\n",
       "    <tr>\n",
       "      <th>2023-06-21</th>\n",
       "      <td>4380.009766</td>\n",
       "      <td>4386.220215</td>\n",
       "      <td>4360.140137</td>\n",
       "      <td>4365.689941</td>\n",
       "      <td>4365.689941</td>\n",
       "      <td>3709330000</td>\n",
       "    </tr>\n",
       "    <tr>\n",
       "      <th>2023-06-20</th>\n",
       "      <td>4396.109863</td>\n",
       "      <td>4400.149902</td>\n",
       "      <td>4367.189941</td>\n",
       "      <td>4388.709961</td>\n",
       "      <td>4388.709961</td>\n",
       "      <td>4055790000</td>\n",
       "    </tr>\n",
       "    <tr>\n",
       "      <th>2023-06-16</th>\n",
       "      <td>4440.950195</td>\n",
       "      <td>4448.470215</td>\n",
       "      <td>4407.439941</td>\n",
       "      <td>4409.589844</td>\n",
       "      <td>4409.589844</td>\n",
       "      <td>6848600000</td>\n",
       "    </tr>\n",
       "  </tbody>\n",
       "</table>\n",
       "</div>"
      ],
      "text/plain": [
       "                   Open         High          Low        Close    Adj Close  \\\n",
       "Date                                                                          \n",
       "2023-06-23  4354.169922  4366.549805  4341.339844  4348.330078  4348.330078   \n",
       "2023-06-22  4355.399902  4382.250000  4351.819824  4381.890137  4381.890137   \n",
       "2023-06-21  4380.009766  4386.220215  4360.140137  4365.689941  4365.689941   \n",
       "2023-06-20  4396.109863  4400.149902  4367.189941  4388.709961  4388.709961   \n",
       "2023-06-16  4440.950195  4448.470215  4407.439941  4409.589844  4409.589844   \n",
       "\n",
       "                Volume  \n",
       "Date                    \n",
       "2023-06-23  6053620000  \n",
       "2023-06-22  3511000000  \n",
       "2023-06-21  3709330000  \n",
       "2023-06-20  4055790000  \n",
       "2023-06-16  6848600000  "
      ]
     },
     "execution_count": 4,
     "metadata": {},
     "output_type": "execute_result"
    }
   ],
   "source": [
    "df.head()"
   ]
  },
  {
   "cell_type": "code",
   "execution_count": 5,
   "metadata": {},
   "outputs": [],
   "source": [
    "scaler = MinMaxScaler(feature_range=(0, 1))\n",
    "df_scaled = scaler.fit_transform(df['Close'].values.reshape(-1, 1))\n",
    "df['Scaled Closed'] = df_scaled"
   ]
  },
  {
   "cell_type": "code",
   "execution_count": 6,
   "metadata": {},
   "outputs": [],
   "source": [
    "X = df_scaled[:-1]\n",
    "y = df_scaled[1:]"
   ]
  },
  {
   "cell_type": "code",
   "execution_count": 7,
   "metadata": {},
   "outputs": [],
   "source": [
    "X_train, X_test, y_train, y_test =  train_test_split(X, y, test_size=0.2, shuffle=False)"
   ]
  },
  {
   "cell_type": "code",
   "execution_count": null,
   "metadata": {},
   "outputs": [],
   "source": []
  }
 ],
 "metadata": {
  "kernelspec": {
   "display_name": ".venv",
   "language": "python",
   "name": "python3"
  },
  "language_info": {
   "codemirror_mode": {
    "name": "ipython",
    "version": 3
   },
   "file_extension": ".py",
   "mimetype": "text/x-python",
   "name": "python",
   "nbconvert_exporter": "python",
   "pygments_lexer": "ipython3",
   "version": "3.9.6"
  },
  "orig_nbformat": 4
 },
 "nbformat": 4,
 "nbformat_minor": 2
}
